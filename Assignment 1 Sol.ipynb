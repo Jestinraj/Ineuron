{
 "cells": [
  {
   "cell_type": "code",
   "execution_count": null,
   "id": "ce087181",
   "metadata": {},
   "outputs": [],
   "source": [
    "1. In the below elements which of them are values or an expression? eg:- values can be integer or string and expressions will be mathematical operators.\n",
    "* \n",
    "'hello'\n",
    "-87.8\n",
    "- \n",
    "/ \n",
    "+\n",
    "6 \n"
   ]
  },
  {
   "cell_type": "code",
   "execution_count": null,
   "id": "48b860db",
   "metadata": {},
   "outputs": [],
   "source": [
    "Sol: Values -87.8, hello, 6\n",
    "    Expression -, /, +, *"
   ]
  },
  {
   "cell_type": "code",
   "execution_count": null,
   "id": "b45a0342",
   "metadata": {},
   "outputs": [],
   "source": [
    "2. What is the difference between string and variable?"
   ]
  },
  {
   "cell_type": "code",
   "execution_count": null,
   "id": "5feab80b",
   "metadata": {},
   "outputs": [],
   "source": [
    "Sol: string is series of characters and variable is the reference for an object."
   ]
  },
  {
   "cell_type": "code",
   "execution_count": null,
   "id": "b2ccffcf",
   "metadata": {},
   "outputs": [],
   "source": [
    "3. Describe three different data types."
   ]
  },
  {
   "cell_type": "code",
   "execution_count": null,
   "id": "4f10d338",
   "metadata": {},
   "outputs": [],
   "source": [
    "Sol:\n",
    "Numeric:\n",
    "Numeric data type represent the data which has numeric value.\n",
    "\n",
    "Boolean:\n",
    "This data type represent two values : True and False\n",
    "\n",
    "Dictionary:\n",
    "This is an unordered collection of data values.This store values in the form of key and values."
   ]
  },
  {
   "cell_type": "code",
   "execution_count": null,
   "id": "2405d6de",
   "metadata": {},
   "outputs": [],
   "source": [
    "4. What is an expression made up of? What do all expressions do?"
   ]
  },
  {
   "cell_type": "code",
   "execution_count": null,
   "id": "9d5cfb3e",
   "metadata": {},
   "outputs": [],
   "source": [
    "Sol: \n",
    "An expression is a combination of operators and operands that is interpreted to produce some other value.\n",
    "Constant Expression\n",
    "result = 5+5\n",
    "\n",
    "Integral Expression\n",
    "result = x*y\n",
    "\n",
    "Floating Expression\n",
    "result = 10.5+y\n",
    "\n",
    "Relation Expression\n",
    "result = x<=y\n",
    "\n",
    "Logical Expression\n",
    "result = (x>y && x>18)\n",
    "\n",
    "Pointer Expression\n",
    "result = index++\n",
    "\n",
    "Bitwise Expression\n",
    "result = x<<3"
   ]
  },
  {
   "cell_type": "code",
   "execution_count": null,
   "id": "1a1b96d5",
   "metadata": {},
   "outputs": [],
   "source": [
    "5.This assignment statements, like spam = 10. What is the difference between an expression and a statement?"
   ]
  },
  {
   "cell_type": "code",
   "execution_count": null,
   "id": "071eb3f4",
   "metadata": {},
   "outputs": [],
   "source": [
    "Sol:\n",
    "Difference between assignment operator \"and\" expression\n",
    "\n",
    "Assigment operator is used for assiging the value to the variable whereas expression is used for computation and similarity check between operands.\n",
    "Calculation is not performed on the assignment operator.This only allocate the memory references whereas in expression calculation is performed first and then assign the result to variable if present"
   ]
  },
  {
   "cell_type": "code",
   "execution_count": null,
   "id": "67b9b98a",
   "metadata": {},
   "outputs": [],
   "source": [
    "6. After running the following code, what does the variable bacon contain?\n",
    "bacon = 22\n",
    "bacon + 1"
   ]
  },
  {
   "cell_type": "code",
   "execution_count": null,
   "id": "ec29130b",
   "metadata": {},
   "outputs": [],
   "source": [
    "Sol: 22"
   ]
  },
  {
   "cell_type": "code",
   "execution_count": null,
   "id": "01a437c3",
   "metadata": {},
   "outputs": [],
   "source": [
    "7. What should the values of the following two terms be?\n",
    "'spam' + 'spamspam'\n",
    "'spam' * 3\n"
   ]
  },
  {
   "cell_type": "code",
   "execution_count": null,
   "id": "c00b4bbd",
   "metadata": {},
   "outputs": [],
   "source": [
    "Sol: 'spamspamspam', 'spamspamspam'"
   ]
  },
  {
   "cell_type": "code",
   "execution_count": null,
   "id": "95102dcf",
   "metadata": {},
   "outputs": [],
   "source": [
    "8.Why is eggs a valid variable name while 100 is invalid?"
   ]
  },
  {
   "cell_type": "code",
   "execution_count": null,
   "id": "53f8cb5c",
   "metadata": {},
   "outputs": [],
   "source": [
    "Sol: Variable name cannot be a number."
   ]
  },
  {
   "cell_type": "code",
   "execution_count": null,
   "id": "c5d98855",
   "metadata": {},
   "outputs": [],
   "source": [
    "9.What three functions can be used to get the integer, floating-point number, or string version of a value"
   ]
  },
  {
   "cell_type": "code",
   "execution_count": null,
   "id": "e7757d96",
   "metadata": {},
   "outputs": [],
   "source": [
    "Sol: str() : For string conversion.\n",
    "int(): For int conversion.\n",
    "float(): For float conversion."
   ]
  },
  {
   "cell_type": "code",
   "execution_count": null,
   "id": "f57d2ac2",
   "metadata": {},
   "outputs": [],
   "source": [
    "10. Why does this expression cause an error? How can you fix it?\n",
    "'I have eaten ' + 99 + ' burritos.'"
   ]
  },
  {
   "cell_type": "code",
   "execution_count": null,
   "id": "e0f96eb3",
   "metadata": {},
   "outputs": [],
   "source": [
    "Sol:'I have eaten ' + str(99) + ' burritos."
   ]
  },
  {
   "cell_type": "code",
   "execution_count": 9,
   "id": "e1a68fc2",
   "metadata": {},
   "outputs": [
    {
     "data": {
      "text/plain": [
       "'I have eaten 99 burritos.'"
      ]
     },
     "execution_count": 9,
     "metadata": {},
     "output_type": "execute_result"
    }
   ],
   "source": [
    "'I have eaten ' + str(99) + ' burritos.'"
   ]
  },
  {
   "cell_type": "code",
   "execution_count": null,
   "id": "beefd620",
   "metadata": {},
   "outputs": [],
   "source": []
  }
 ],
 "metadata": {
  "kernelspec": {
   "display_name": "Python 3 (ipykernel)",
   "language": "python",
   "name": "python3"
  },
  "language_info": {
   "codemirror_mode": {
    "name": "ipython",
    "version": 3
   },
   "file_extension": ".py",
   "mimetype": "text/x-python",
   "name": "python",
   "nbconvert_exporter": "python",
   "pygments_lexer": "ipython3",
   "version": "3.9.7"
  }
 },
 "nbformat": 4,
 "nbformat_minor": 5
}
